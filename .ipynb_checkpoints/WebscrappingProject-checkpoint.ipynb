{
 "cells": [
  {
   "cell_type": "markdown",
   "id": "66861e22",
   "metadata": {},
   "source": [
    "### WEBSCRAPPING PROJECT TO RETRIVE BOOKS AND RATINGS"
   ]
  },
  {
   "cell_type": "code",
   "execution_count": 118,
   "id": "0de7df24",
   "metadata": {},
   "outputs": [],
   "source": [
    "import requests\n",
    "import bs4 \n",
    "import numpy as np\n",
    "import pandas as pd\n",
    "import seaborn as sns\n",
    "import matplotlib.pyplot as plt\n",
    "%matplotlib inline"
   ]
  },
  {
   "cell_type": "code",
   "execution_count": 21,
   "id": "541c24fb",
   "metadata": {},
   "outputs": [
    {
     "data": {
      "text/plain": [
       "'http://books.toscrape.com/catalogue/page-2.html'"
      ]
     },
     "execution_count": 21,
     "metadata": {},
     "output_type": "execute_result"
    }
   ],
   "source": [
    "#website we will be using \n",
    "'http://books.toscrape.com/'\n",
    "\n",
    "#website has sevearl pages but the only change in the url is the page number\n",
    "'http://books.toscrape.com/catalogue/page-2.html'"
   ]
  },
  {
   "cell_type": "code",
   "execution_count": 48,
   "id": "ebef7d91",
   "metadata": {},
   "outputs": [],
   "source": [
    "base_url = 'http://books.toscrape.com/catalogue/page-{}.html'\n",
    "\n",
    "#Use the requests library to grab the page\n",
    "res = requests.get(base_url.format('1'))\n",
    "\n",
    "#Use beautifulsoup to analyze the extracted page \n",
    "soup = bs4.BeautifulSoup(res.text,'lxml')\n",
    "\n",
    "#We use select method to grab a specific elements from the extracted hmtl text\n",
    "#each product represents a book and its attributes\n",
    "#using this syntax we can grab each product_pod class\n",
    "products = soup.select('.product_pod')"
   ]
  },
  {
   "cell_type": "markdown",
   "id": "a20d9344",
   "metadata": {},
   "source": [
    "### How Can we check the rating of each book\n",
    "- First way is to convert the tag to a str and then check for \n",
    "- \"class=\"star-rating Two\" in str or use beautiful soups select method"
   ]
  },
  {
   "cell_type": "code",
   "execution_count": 29,
   "id": "b72fc0e7",
   "metadata": {},
   "outputs": [
    {
     "data": {
      "text/plain": [
       "False"
      ]
     },
     "execution_count": 29,
     "metadata": {},
     "output_type": "execute_result"
    }
   ],
   "source": [
    "#1 Checking for string in a string \n",
    "\"star-rating Two\" in str(example)"
   ]
  },
  {
   "cell_type": "code",
   "execution_count": 30,
   "id": "7298228d",
   "metadata": {},
   "outputs": [
    {
     "data": {
      "text/plain": [
       "True"
      ]
     },
     "execution_count": 30,
     "metadata": {},
     "output_type": "execute_result"
    }
   ],
   "source": [
    "\"star-rating Three\" in str(example)"
   ]
  },
  {
   "cell_type": "code",
   "execution_count": 31,
   "id": "f1566805",
   "metadata": {},
   "outputs": [
    {
     "data": {
      "text/plain": [
       "[<p class=\"star-rating Three\">\n",
       " <i class=\"icon-star\"></i>\n",
       " <i class=\"icon-star\"></i>\n",
       " <i class=\"icon-star\"></i>\n",
       " <i class=\"icon-star\"></i>\n",
       " <i class=\"icon-star\"></i>\n",
       " </p>]"
      ]
     },
     "execution_count": 31,
     "metadata": {},
     "output_type": "execute_result"
    }
   ],
   "source": [
    "#2 Check if book is two/three stars using the select method\n",
    "example.select(\".star-rating.Three\")"
   ]
  },
  {
   "cell_type": "code",
   "execution_count": 32,
   "id": "72a18d26",
   "metadata": {},
   "outputs": [
    {
     "data": {
      "text/plain": [
       "[]"
      ]
     },
     "execution_count": 32,
     "metadata": {},
     "output_type": "execute_result"
    }
   ],
   "source": [
    "example.select(\".star-rating.Two\")"
   ]
  },
  {
   "cell_type": "code",
   "execution_count": 38,
   "id": "6945fd04",
   "metadata": {},
   "outputs": [
    {
     "data": {
      "text/plain": [
       "'A Light in the Attic'"
      ]
     },
     "execution_count": 38,
     "metadata": {},
     "output_type": "execute_result"
    }
   ],
   "source": [
    "#how to grab the title\n",
    "example.select(\"a\")[1]['title']"
   ]
  },
  {
   "cell_type": "markdown",
   "id": "82a25548",
   "metadata": {},
   "source": [
    "### This code is specifc to this website \n",
    "- A for loop iterating through each page on the site in order to seperate the books based on the ratings.\n",
    "\n",
    "- Created a dataframe with all books from the site with their ratings"
   ]
  },
  {
   "cell_type": "code",
   "execution_count": 55,
   "id": "73d634b7",
   "metadata": {
    "scrolled": false
   },
   "outputs": [],
   "source": [
    "one_star_books = []\n",
    "two_star_books = []\n",
    "three_star_books = []\n",
    "four_star_books = []\n",
    "five_star_books = []\n",
    "\n",
    "for i in range(1,51):\n",
    "    res = requests.get(base_url.format(i))\n",
    "    soup = bs4.BeautifulSoup(res.text,'lxml')\n",
    "    books = soup.select('.product_pod')\n",
    "    \n",
    "    for book in books:\n",
    "        if \"star-rating One\" in str(book):\n",
    "            one_star_books.append(book.select(\"a\")[1]['title'])\n",
    "        elif \"star-rating Two\" in str(book):\n",
    "            two_star_books.append(book.select(\"a\")[1]['title'])\n",
    "        elif \"star-rating Three\" in str(book):\n",
    "            three_star_books.append(book.select(\"a\")[1]['title'])\n",
    "        elif \"star-rating Four\" in str(book):\n",
    "            four_star_books.append(book.select(\"a\")[1]['title'])\n",
    "        elif \"star-rating Five\" in str(book):\n",
    "            five_star_books.append(book.select(\"a\")[1]['title'])\n",
    "        else:\n",
    "            continue\n"
   ]
  },
  {
   "cell_type": "code",
   "execution_count": 106,
   "id": "a956ea2c",
   "metadata": {},
   "outputs": [],
   "source": [
    "booklist_list = [one_star_books,two_star_books,three_star_books,\n",
    "                four_star_books,five_star_books]\n",
    "df1 = pd.DataFrame()\n",
    "for item in booklist_list:\n",
    "    df = pd.DataFrame(data=item,columns=['Book Title'])\n",
    "    df1 = pd.concat([df1,df])"
   ]
  },
  {
   "cell_type": "code",
   "execution_count": 91,
   "id": "3b4fc5ba",
   "metadata": {},
   "outputs": [],
   "source": [
    "def rating(title):\n",
    "    if title in one_star_books:\n",
    "        return 1\n",
    "    elif title in two_star_books:\n",
    "        return 2 \n",
    "    elif title in three_star_books:\n",
    "        return 3 \n",
    "    elif title in four_star_books:\n",
    "        return 4 \n",
    "    else:\n",
    "        return 5 "
   ]
  },
  {
   "cell_type": "code",
   "execution_count": 100,
   "id": "142be173",
   "metadata": {},
   "outputs": [
    {
     "name": "stdout",
     "output_type": "stream",
     "text": [
      "<class 'pandas.core.frame.DataFrame'>\n",
      "Int64Index: 1000 entries, 0 to 195\n",
      "Data columns (total 1 columns):\n",
      " #   Column      Non-Null Count  Dtype \n",
      "---  ------      --------------  ----- \n",
      " 0   Book Title  1000 non-null   object\n",
      "dtypes: object(1)\n",
      "memory usage: 47.9+ KB\n"
     ]
    }
   ],
   "source": [
    "df1.info()"
   ]
  },
  {
   "cell_type": "code",
   "execution_count": 110,
   "id": "fd959b5b",
   "metadata": {},
   "outputs": [],
   "source": [
    "df1['rating'] = df1['Book Title'].apply(rating)"
   ]
  },
  {
   "cell_type": "code",
   "execution_count": 111,
   "id": "b45749b2",
   "metadata": {},
   "outputs": [
    {
     "data": {
      "text/html": [
       "<div>\n",
       "<style scoped>\n",
       "    .dataframe tbody tr th:only-of-type {\n",
       "        vertical-align: middle;\n",
       "    }\n",
       "\n",
       "    .dataframe tbody tr th {\n",
       "        vertical-align: top;\n",
       "    }\n",
       "\n",
       "    .dataframe thead th {\n",
       "        text-align: right;\n",
       "    }\n",
       "</style>\n",
       "<table border=\"1\" class=\"dataframe\">\n",
       "  <thead>\n",
       "    <tr style=\"text-align: right;\">\n",
       "      <th></th>\n",
       "      <th>Book Title</th>\n",
       "      <th>rating</th>\n",
       "    </tr>\n",
       "  </thead>\n",
       "  <tbody>\n",
       "    <tr>\n",
       "      <th>0</th>\n",
       "      <td>Tipping the Velvet</td>\n",
       "      <td>1</td>\n",
       "    </tr>\n",
       "    <tr>\n",
       "      <th>1</th>\n",
       "      <td>Soumission</td>\n",
       "      <td>1</td>\n",
       "    </tr>\n",
       "    <tr>\n",
       "      <th>2</th>\n",
       "      <td>The Requiem Red</td>\n",
       "      <td>1</td>\n",
       "    </tr>\n",
       "    <tr>\n",
       "      <th>3</th>\n",
       "      <td>The Black Maria</td>\n",
       "      <td>1</td>\n",
       "    </tr>\n",
       "    <tr>\n",
       "      <th>4</th>\n",
       "      <td>Olio</td>\n",
       "      <td>1</td>\n",
       "    </tr>\n",
       "    <tr>\n",
       "      <th>...</th>\n",
       "      <td>...</td>\n",
       "      <td>...</td>\n",
       "    </tr>\n",
       "    <tr>\n",
       "      <th>191</th>\n",
       "      <td>Deep Under (Walker Security #1)</td>\n",
       "      <td>5</td>\n",
       "    </tr>\n",
       "    <tr>\n",
       "      <th>192</th>\n",
       "      <td>Bright Lines</td>\n",
       "      <td>5</td>\n",
       "    </tr>\n",
       "    <tr>\n",
       "      <th>193</th>\n",
       "      <td>Bleach, Vol. 1: Strawberry and the Soul Reaper...</td>\n",
       "      <td>5</td>\n",
       "    </tr>\n",
       "    <tr>\n",
       "      <th>194</th>\n",
       "      <td>A Spy's Devotion (The Regency Spies of London #1)</td>\n",
       "      <td>5</td>\n",
       "    </tr>\n",
       "    <tr>\n",
       "      <th>195</th>\n",
       "      <td>1,000 Places to See Before You Die</td>\n",
       "      <td>5</td>\n",
       "    </tr>\n",
       "  </tbody>\n",
       "</table>\n",
       "<p>1000 rows × 2 columns</p>\n",
       "</div>"
      ],
      "text/plain": [
       "                                            Book Title  rating\n",
       "0                                   Tipping the Velvet       1\n",
       "1                                           Soumission       1\n",
       "2                                      The Requiem Red       1\n",
       "3                                      The Black Maria       1\n",
       "4                                                 Olio       1\n",
       "..                                                 ...     ...\n",
       "191                    Deep Under (Walker Security #1)       5\n",
       "192                                       Bright Lines       5\n",
       "193  Bleach, Vol. 1: Strawberry and the Soul Reaper...       5\n",
       "194  A Spy's Devotion (The Regency Spies of London #1)       5\n",
       "195                 1,000 Places to See Before You Die       5\n",
       "\n",
       "[1000 rows x 2 columns]"
      ]
     },
     "execution_count": 111,
     "metadata": {},
     "output_type": "execute_result"
    }
   ],
   "source": [
    "df1"
   ]
  },
  {
   "cell_type": "markdown",
   "id": "5b223bdd",
   "metadata": {},
   "source": [
    "### Data visualization "
   ]
  },
  {
   "cell_type": "code",
   "execution_count": 125,
   "id": "9cc3fde7",
   "metadata": {},
   "outputs": [
    {
     "data": {
      "text/plain": [
       "<AxesSubplot:xlabel='rating', ylabel='count'>"
      ]
     },
     "execution_count": 125,
     "metadata": {},
     "output_type": "execute_result"
    },
    {
     "data": {
      "image/png": "[encoded data removed]",
      "text/plain": [
       "<Figure size 640x480 with 1 Axes>"
      ]
     },
     "metadata": {},
     "output_type": "display_data"
    }
   ],
   "source": [
    "#DISTRIBUTION OF BOOK RATINGS \n",
    "sns.set_style('darkgrid')\n",
    "sns.set(font_scale=0.8)\n",
    "sns.countplot(data=df1 ,x='rating',palette='rocket')"
   ]
  },
  {
   "cell_type": "markdown",
   "id": "ec24776e",
   "metadata": {},
   "source": [
    "### In the data we can see a somewhat equal amount of 1-5 star rated books"
   ]
  }
 ],
 "metadata": {
  "kernelspec": {
   "display_name": "Python 3 (ipykernel)",
   "language": "python",
   "name": "python3"
  },
  "language_info": {
   "codemirror_mode": {
    "name": "ipython",
    "version": 3
   },
   "file_extension": ".py",
   "mimetype": "text/x-python",
   "name": "python",
   "nbconvert_exporter": "python",
   "pygments_lexer": "ipython3",
   "version": "3.9.13"
  }
 },
 "nbformat": 4,
 "nbformat_minor": 5
}
